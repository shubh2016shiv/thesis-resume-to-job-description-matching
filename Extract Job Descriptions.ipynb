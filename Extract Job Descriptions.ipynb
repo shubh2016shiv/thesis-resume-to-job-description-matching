{
 "cells": [
  {
   "cell_type": "code",
   "execution_count": 1,
   "metadata": {},
   "outputs": [],
   "source": [
    "import numpy as np\n",
    "import pandas as pd\n",
    "import re\n",
    "import warnings\n",
    "import uuid\n",
    "\n",
    "\n",
    "warnings.filterwarnings(action='ignore')"
   ]
  },
  {
   "cell_type": "code",
   "execution_count": 2,
   "metadata": {},
   "outputs": [],
   "source": [
    "machine_learning_job_path = 'Job Descriptions/machine learning/'\n",
    "chartered_accountant_job_path = 'Job Descriptions/Chartered accountant'\n",
    "software_developer_job_path = 'Job Descriptions/software developer'\n",
    "product_manager_job_path = 'Job Descriptions/product manager'"
   ]
  },
  {
   "cell_type": "code",
   "execution_count": 3,
   "metadata": {},
   "outputs": [],
   "source": [
    "jobs_df = pd.read_csv(\"Job Descriptions/Train_Original.csv\")"
   ]
  },
  {
   "cell_type": "code",
   "execution_count": 4,
   "metadata": {},
   "outputs": [],
   "source": [
    "def save_job_descriptions_as_txt(df,path):\n",
    "    for index, row in df.iterrows():\n",
    "        title = row['Title']\n",
    "        description = row['FullDescription']\n",
    "        unique_id = uuid.uuid4()\n",
    "        file_name = str(unique_id) + '.txt'\n",
    "\n",
    "        with open(path + \"/\" + file_name, 'w') as file:\n",
    "            file.write(f'Title: {title}\\n')\n",
    "            file.write(f'Full Description: {description}\\n')"
   ]
  },
  {
   "attachments": {},
   "cell_type": "markdown",
   "metadata": {},
   "source": [
    "## Filter Job Descriptions"
   ]
  },
  {
   "attachments": {},
   "cell_type": "markdown",
   "metadata": {},
   "source": [
    "### Artificial Intelligence / Machine Learning / data science"
   ]
  },
  {
   "attachments": {},
   "cell_type": "markdown",
   "metadata": {},
   "source": [
    "#### Machine Learning"
   ]
  },
  {
   "cell_type": "code",
   "execution_count": 5,
   "metadata": {},
   "outputs": [],
   "source": [
    "# Define the regex pattern for filtering\n",
    "pattern = r'(machine learning)'\n",
    "\n",
    "# Filter the dataframe\n",
    "filtered__machine_learning = jobs_df[jobs_df['Title'].str.contains(pattern, flags=re.IGNORECASE, regex=True) \n",
    "                                     | jobs_df['FullDescription'].str.contains(pattern, flags=re.IGNORECASE, regex=True)]\n"
   ]
  },
  {
   "cell_type": "code",
   "execution_count": 6,
   "metadata": {},
   "outputs": [],
   "source": [
    "filtered__machine_learning = filtered__machine_learning.groupby('Category').filter(lambda x: len(x) > 10)"
   ]
  },
  {
   "cell_type": "code",
   "execution_count": 7,
   "metadata": {},
   "outputs": [
    {
     "data": {
      "text/plain": [
       "Category\n",
       "IT Jobs    40\n",
       "Name: count, dtype: int64"
      ]
     },
     "execution_count": 7,
     "metadata": {},
     "output_type": "execute_result"
    }
   ],
   "source": [
    "filtered__machine_learning['Category'].value_counts()"
   ]
  },
  {
   "cell_type": "code",
   "execution_count": 8,
   "metadata": {},
   "outputs": [
    {
     "data": {
      "text/html": [
       "<div>\n",
       "<style scoped>\n",
       "    .dataframe tbody tr th:only-of-type {\n",
       "        vertical-align: middle;\n",
       "    }\n",
       "\n",
       "    .dataframe tbody tr th {\n",
       "        vertical-align: top;\n",
       "    }\n",
       "\n",
       "    .dataframe thead th {\n",
       "        text-align: right;\n",
       "    }\n",
       "</style>\n",
       "<table border=\"1\" class=\"dataframe\">\n",
       "  <thead>\n",
       "    <tr style=\"text-align: right;\">\n",
       "      <th></th>\n",
       "      <th>Title</th>\n",
       "      <th>FullDescription</th>\n",
       "    </tr>\n",
       "  </thead>\n",
       "  <tbody>\n",
       "    <tr>\n",
       "      <th>11746</th>\n",
       "      <td>Postdoctoral Researchers</td>\n",
       "      <td>An exciting opportunity to carry out world cla...</td>\n",
       "    </tr>\n",
       "    <tr>\n",
       "      <th>17262</th>\n",
       "      <td>Analytics Developer</td>\n",
       "      <td>Software/Analytics Developer (C, C++ or Java) ...</td>\n",
       "    </tr>\n",
       "    <tr>\n",
       "      <th>17377</th>\n",
       "      <td>Tools Developer Data Analytics / Big Data / NLP</td>\n",
       "      <td>Highgrowth startup in the Artificial Intellige...</td>\n",
       "    </tr>\n",
       "    <tr>\n",
       "      <th>17507</th>\n",
       "      <td>C++ Quantitative Analyst  Oxford  Abingdon</td>\n",
       "      <td>C++ Quantitative Analyst  Oxford  Abingdon My ...</td>\n",
       "    </tr>\n",
       "    <tr>\n",
       "      <th>33429</th>\n",
       "      <td>Quantitative Developer</td>\n",
       "      <td>Job Title: Quantitative Developer Salary: ****...</td>\n",
       "    </tr>\n",
       "  </tbody>\n",
       "</table>\n",
       "</div>"
      ],
      "text/plain": [
       "                                                 Title  \\\n",
       "11746                         Postdoctoral Researchers   \n",
       "17262                              Analytics Developer   \n",
       "17377  Tools Developer Data Analytics / Big Data / NLP   \n",
       "17507       C++ Quantitative Analyst  Oxford  Abingdon   \n",
       "33429                           Quantitative Developer   \n",
       "\n",
       "                                         FullDescription  \n",
       "11746  An exciting opportunity to carry out world cla...  \n",
       "17262  Software/Analytics Developer (C, C++ or Java) ...  \n",
       "17377  Highgrowth startup in the Artificial Intellige...  \n",
       "17507  C++ Quantitative Analyst  Oxford  Abingdon My ...  \n",
       "33429  Job Title: Quantitative Developer Salary: ****...  "
      ]
     },
     "execution_count": 8,
     "metadata": {},
     "output_type": "execute_result"
    }
   ],
   "source": [
    "filtered__machine_learning[['Title','FullDescription']].head()"
   ]
  },
  {
   "attachments": {},
   "cell_type": "markdown",
   "metadata": {},
   "source": [
    "#### Data Science"
   ]
  },
  {
   "cell_type": "code",
   "execution_count": 9,
   "metadata": {},
   "outputs": [],
   "source": [
    "# Define the regex pattern for filtering\n",
    "pattern = r'(data science)'\n",
    "\n",
    "# Filter the dataframe\n",
    "filtered__data_science = jobs_df[jobs_df['Title'].str.contains(pattern, flags=re.IGNORECASE, regex=True) \n",
    "                                     | jobs_df['FullDescription'].str.contains(pattern, flags=re.IGNORECASE, regex=True)]"
   ]
  },
  {
   "cell_type": "code",
   "execution_count": 10,
   "metadata": {},
   "outputs": [
    {
     "data": {
      "text/plain": [
       "Category\n",
       "IT Jobs                             8\n",
       "PR, Advertising & Marketing Jobs    2\n",
       "Teaching Jobs                       1\n",
       "Healthcare & Nursing Jobs           1\n",
       "Name: count, dtype: int64"
      ]
     },
     "execution_count": 10,
     "metadata": {},
     "output_type": "execute_result"
    }
   ],
   "source": [
    "filtered__data_science['Category'].value_counts()"
   ]
  },
  {
   "cell_type": "code",
   "execution_count": 11,
   "metadata": {},
   "outputs": [],
   "source": [
    "filtered__data_science = filtered__data_science[filtered__data_science['Category']=='IT Jobs']"
   ]
  },
  {
   "attachments": {},
   "cell_type": "markdown",
   "metadata": {},
   "source": [
    "#### Artificial Intelligence"
   ]
  },
  {
   "cell_type": "code",
   "execution_count": 12,
   "metadata": {},
   "outputs": [],
   "source": [
    "# Define the regex pattern for filtering\n",
    "pattern = r'(artificial intelligence)'\n",
    "\n",
    "# Filter the dataframe\n",
    "filtered__artificial_intelligence = jobs_df[jobs_df['Title'].str.contains(pattern, flags=re.IGNORECASE, regex=True) \n",
    "                                     | jobs_df['FullDescription'].str.contains(pattern, flags=re.IGNORECASE, regex=True)]\n"
   ]
  },
  {
   "cell_type": "code",
   "execution_count": 13,
   "metadata": {},
   "outputs": [
    {
     "data": {
      "text/plain": [
       "Category\n",
       "IT Jobs                      14\n",
       "Engineering Jobs              2\n",
       "Scientific & QA Jobs          2\n",
       "Accounting & Finance Jobs     1\n",
       "Teaching Jobs                 1\n",
       "Other/General Jobs            1\n",
       "Name: count, dtype: int64"
      ]
     },
     "execution_count": 13,
     "metadata": {},
     "output_type": "execute_result"
    }
   ],
   "source": [
    "filtered__artificial_intelligence['Category'].value_counts()"
   ]
  },
  {
   "cell_type": "code",
   "execution_count": 14,
   "metadata": {},
   "outputs": [],
   "source": [
    "filtered__artificial_intelligence = filtered__artificial_intelligence[filtered__artificial_intelligence['Category']=='IT Jobs']"
   ]
  },
  {
   "attachments": {},
   "cell_type": "markdown",
   "metadata": {},
   "source": [
    "#### NLP"
   ]
  },
  {
   "cell_type": "code",
   "execution_count": 15,
   "metadata": {},
   "outputs": [],
   "source": [
    "# Define the regex pattern for filtering\n",
    "pattern = r'(natural language processing)'\n",
    "\n",
    "# Filter the dataframe\n",
    "filtered__nlp = jobs_df[jobs_df['Title'].str.contains(pattern, flags=re.IGNORECASE, regex=True) \n",
    "                                     | jobs_df['FullDescription'].str.contains(pattern, flags=re.IGNORECASE, regex=True)]"
   ]
  },
  {
   "cell_type": "code",
   "execution_count": 16,
   "metadata": {},
   "outputs": [
    {
     "data": {
      "text/plain": [
       "Category\n",
       "IT Jobs                       35\n",
       "Accounting & Finance Jobs      2\n",
       "Teaching Jobs                  1\n",
       "Sales Jobs                     1\n",
       "Logistics & Warehouse Jobs     1\n",
       "Graduate Jobs                  1\n",
       "Name: count, dtype: int64"
      ]
     },
     "execution_count": 16,
     "metadata": {},
     "output_type": "execute_result"
    }
   ],
   "source": [
    "filtered__nlp['Category'].value_counts()"
   ]
  },
  {
   "cell_type": "code",
   "execution_count": 17,
   "metadata": {},
   "outputs": [],
   "source": [
    "filtered__nlp = filtered__nlp[filtered__nlp['Category']=='IT Jobs']"
   ]
  },
  {
   "cell_type": "code",
   "execution_count": 18,
   "metadata": {},
   "outputs": [],
   "source": [
    "filtered__ai = pd.concat([filtered__machine_learning,\n",
    "                                      filtered__data_science,\n",
    "                                      filtered__artificial_intelligence,\n",
    "                                      filtered__nlp,\n",
    "                                      ]).drop_duplicates()"
   ]
  },
  {
   "attachments": {},
   "cell_type": "markdown",
   "metadata": {},
   "source": [
    "### Software Developer"
   ]
  },
  {
   "cell_type": "code",
   "execution_count": 19,
   "metadata": {},
   "outputs": [],
   "source": [
    "# Define the regex pattern for filtering\n",
    "pattern = r'(software developer)'\n",
    "\n",
    "# Filter the dataframe\n",
    "filtered__software_developer = jobs_df[jobs_df['Title'].str.contains(pattern, flags=re.IGNORECASE, regex=True) \n",
    "                                     | jobs_df['FullDescription'].str.contains(pattern, flags=re.IGNORECASE, regex=True)]"
   ]
  },
  {
   "cell_type": "code",
   "execution_count": 20,
   "metadata": {},
   "outputs": [
    {
     "data": {
      "text/plain": [
       "Category\n",
       "IT Jobs                             2362\n",
       "Engineering Jobs                     113\n",
       "Other/General Jobs                    52\n",
       "HR & Recruitment Jobs                 49\n",
       "Accounting & Finance Jobs             27\n",
       "Logistics & Warehouse Jobs            17\n",
       "Graduate Jobs                         13\n",
       "PR, Advertising & Marketing Jobs      12\n",
       "Sales Jobs                             8\n",
       "Scientific & QA Jobs                   8\n",
       "Creative & Design Jobs                 7\n",
       "Admin Jobs                             4\n",
       "Consultancy Jobs                       3\n",
       "Energy, Oil & Gas Jobs                 3\n",
       "Manufacturing Jobs                     3\n",
       "Healthcare & Nursing Jobs              2\n",
       "Customer Services Jobs                 2\n",
       "Part time Jobs                         2\n",
       "Retail Jobs                            1\n",
       "Teaching Jobs                          1\n",
       "Legal Jobs                             1\n",
       "Travel Jobs                            1\n",
       "Name: count, dtype: int64"
      ]
     },
     "execution_count": 20,
     "metadata": {},
     "output_type": "execute_result"
    }
   ],
   "source": [
    "filtered__software_developer['Category'].value_counts()"
   ]
  },
  {
   "cell_type": "code",
   "execution_count": 21,
   "metadata": {},
   "outputs": [],
   "source": [
    "filtered__software_developer = filtered__software_developer[filtered__software_developer['Category']=='IT Jobs']"
   ]
  },
  {
   "cell_type": "code",
   "execution_count": 22,
   "metadata": {},
   "outputs": [
    {
     "data": {
      "text/plain": [
       "Category\n",
       "IT Jobs    2362\n",
       "Name: count, dtype: int64"
      ]
     },
     "execution_count": 22,
     "metadata": {},
     "output_type": "execute_result"
    }
   ],
   "source": [
    "filtered__software_developer['Category'].value_counts()"
   ]
  },
  {
   "cell_type": "code",
   "execution_count": 23,
   "metadata": {},
   "outputs": [],
   "source": [
    "# To filter out the AI related jobs from Software developer jobs as they could be mixed\n",
    "# Keywords to exclude\n",
    "keywords = ['machine learning', 'data science', 'artificial intelligence', 'natural language processing']\n",
    "\n",
    "# Filter the dataframe\n",
    "filtered__software_developer = filtered__software_developer[~filtered__software_developer['FullDescription'].str.contains('|'.join(keywords), case=False)]"
   ]
  },
  {
   "attachments": {},
   "cell_type": "markdown",
   "metadata": {},
   "source": [
    "### Product manager"
   ]
  },
  {
   "cell_type": "code",
   "execution_count": 24,
   "metadata": {},
   "outputs": [],
   "source": [
    "# Define the regex pattern for filtering\n",
    "pattern = r'(product manager)'\n",
    "\n",
    "# Filter the dataframe\n",
    "filtered__product_manager = jobs_df[jobs_df['Title'].str.contains(pattern, flags=re.IGNORECASE, regex=True) \n",
    "                                     | jobs_df['FullDescription'].str.contains(pattern, flags=re.IGNORECASE, regex=True)]"
   ]
  },
  {
   "cell_type": "code",
   "execution_count": 25,
   "metadata": {
    "scrolled": true
   },
   "outputs": [
    {
     "data": {
      "text/html": [
       "<div>\n",
       "<style scoped>\n",
       "    .dataframe tbody tr th:only-of-type {\n",
       "        vertical-align: middle;\n",
       "    }\n",
       "\n",
       "    .dataframe tbody tr th {\n",
       "        vertical-align: top;\n",
       "    }\n",
       "\n",
       "    .dataframe thead th {\n",
       "        text-align: right;\n",
       "    }\n",
       "</style>\n",
       "<table border=\"1\" class=\"dataframe\">\n",
       "  <thead>\n",
       "    <tr style=\"text-align: right;\">\n",
       "      <th></th>\n",
       "      <th>Id</th>\n",
       "      <th>Title</th>\n",
       "      <th>FullDescription</th>\n",
       "      <th>LocationRaw</th>\n",
       "      <th>LocationNormalized</th>\n",
       "      <th>ContractType</th>\n",
       "      <th>ContractTime</th>\n",
       "      <th>Company</th>\n",
       "      <th>Category</th>\n",
       "      <th>SalaryRaw</th>\n",
       "      <th>SalaryNormalized</th>\n",
       "      <th>SourceName</th>\n",
       "    </tr>\n",
       "  </thead>\n",
       "  <tbody>\n",
       "    <tr>\n",
       "      <th>1976</th>\n",
       "      <td>51539851</td>\n",
       "      <td>ACCESSORIES PRODUCT MANAGER</td>\n",
       "      <td>ACCESSORIES PRODUCT MANAGER Location: Basingst...</td>\n",
       "      <td>Basingstoke</td>\n",
       "      <td>Basingstoke</td>\n",
       "      <td>NaN</td>\n",
       "      <td>permanent</td>\n",
       "      <td>NaN</td>\n",
       "      <td>Retail Jobs</td>\n",
       "      <td>25-30K PLUS BONUS</td>\n",
       "      <td>27500</td>\n",
       "      <td>hays.co.uk</td>\n",
       "    </tr>\n",
       "    <tr>\n",
       "      <th>2479</th>\n",
       "      <td>55408208</td>\n",
       "      <td>Senior Java Software Engineer</td>\n",
       "      <td>The Role: To work as a member of the Developme...</td>\n",
       "      <td>Berkshire</td>\n",
       "      <td>Berkshire</td>\n",
       "      <td>full_time</td>\n",
       "      <td>permanent</td>\n",
       "      <td>Migration</td>\n",
       "      <td>IT Jobs</td>\n",
       "      <td>Up to 60,000 per year + 55000.00-60000.00</td>\n",
       "      <td>60000</td>\n",
       "      <td>planetrecruit.com</td>\n",
       "    </tr>\n",
       "    <tr>\n",
       "      <th>2542</th>\n",
       "      <td>55408955</td>\n",
       "      <td>Senior Applications Developer</td>\n",
       "      <td>My Client is looking for a Senior Applications...</td>\n",
       "      <td>Warwickshire</td>\n",
       "      <td>Warwickshire</td>\n",
       "      <td>full_time</td>\n",
       "      <td>permanent</td>\n",
       "      <td>JOBG8</td>\n",
       "      <td>IT Jobs</td>\n",
       "      <td>Up to 45,000 per year + 30000.00-45000.00</td>\n",
       "      <td>45000</td>\n",
       "      <td>planetrecruit.com</td>\n",
       "    </tr>\n",
       "    <tr>\n",
       "      <th>2658</th>\n",
       "      <td>55409997</td>\n",
       "      <td>Test Analyst</td>\n",
       "      <td>Test Analyst London ****k plus bonus and excel...</td>\n",
       "      <td>London</td>\n",
       "      <td>London</td>\n",
       "      <td>full_time</td>\n",
       "      <td>permanent</td>\n",
       "      <td>Informatiq Consulting</td>\n",
       "      <td>IT Jobs</td>\n",
       "      <td>From 30,000 to 35,000 per year</td>\n",
       "      <td>32500</td>\n",
       "      <td>planetrecruit.com</td>\n",
       "    </tr>\n",
       "    <tr>\n",
       "      <th>2717</th>\n",
       "      <td>55415212</td>\n",
       "      <td>Product manager</td>\n",
       "      <td>The Product manager/Digital Product Executive ...</td>\n",
       "      <td>London</td>\n",
       "      <td>London</td>\n",
       "      <td>full_time</td>\n",
       "      <td>permanent</td>\n",
       "      <td>JOBG8</td>\n",
       "      <td>Sales Jobs</td>\n",
       "      <td>Up to 32,000 per year + 30000.00-32000.00</td>\n",
       "      <td>32000</td>\n",
       "      <td>hotrecruit.com</td>\n",
       "    </tr>\n",
       "  </tbody>\n",
       "</table>\n",
       "</div>"
      ],
      "text/plain": [
       "            Id                          Title  \\\n",
       "1976  51539851    ACCESSORIES PRODUCT MANAGER   \n",
       "2479  55408208  Senior Java Software Engineer   \n",
       "2542  55408955  Senior Applications Developer   \n",
       "2658  55409997                   Test Analyst   \n",
       "2717  55415212                Product manager   \n",
       "\n",
       "                                        FullDescription   LocationRaw  \\\n",
       "1976  ACCESSORIES PRODUCT MANAGER Location: Basingst...   Basingstoke   \n",
       "2479  The Role: To work as a member of the Developme...     Berkshire   \n",
       "2542  My Client is looking for a Senior Applications...  Warwickshire   \n",
       "2658  Test Analyst London ****k plus bonus and excel...        London   \n",
       "2717  The Product manager/Digital Product Executive ...        London   \n",
       "\n",
       "     LocationNormalized ContractType ContractTime                Company  \\\n",
       "1976        Basingstoke          NaN    permanent                    NaN   \n",
       "2479          Berkshire    full_time    permanent              Migration   \n",
       "2542       Warwickshire    full_time    permanent                  JOBG8   \n",
       "2658             London    full_time    permanent  Informatiq Consulting   \n",
       "2717             London    full_time    permanent                  JOBG8   \n",
       "\n",
       "         Category                                  SalaryRaw  \\\n",
       "1976  Retail Jobs                          25-30K PLUS BONUS   \n",
       "2479      IT Jobs  Up to 60,000 per year + 55000.00-60000.00   \n",
       "2542      IT Jobs  Up to 45,000 per year + 30000.00-45000.00   \n",
       "2658      IT Jobs             From 30,000 to 35,000 per year   \n",
       "2717   Sales Jobs  Up to 32,000 per year + 30000.00-32000.00   \n",
       "\n",
       "      SalaryNormalized         SourceName  \n",
       "1976             27500         hays.co.uk  \n",
       "2479             60000  planetrecruit.com  \n",
       "2542             45000  planetrecruit.com  \n",
       "2658             32500  planetrecruit.com  \n",
       "2717             32000     hotrecruit.com  "
      ]
     },
     "execution_count": 25,
     "metadata": {},
     "output_type": "execute_result"
    }
   ],
   "source": [
    "filtered__product_manager.head()"
   ]
  },
  {
   "cell_type": "code",
   "execution_count": 26,
   "metadata": {},
   "outputs": [],
   "source": [
    "filtered__product_manager = filtered__product_manager[(filtered__product_manager['Category']=='PR, Advertising & Marketing Jobs') | \n",
    "                         (filtered__product_manager['Title']=='Product Manager') ]"
   ]
  },
  {
   "attachments": {},
   "cell_type": "markdown",
   "metadata": {},
   "source": [
    "### Chartered Accountant"
   ]
  },
  {
   "cell_type": "code",
   "execution_count": 27,
   "metadata": {},
   "outputs": [],
   "source": [
    "# Define the regex pattern for filtering\n",
    "pattern = r'(chartered accountant)'\n",
    "\n",
    "# Filter the dataframe\n",
    "filtered__chartered_accountant = jobs_df[jobs_df['Title'].str.contains(pattern, flags=re.IGNORECASE, regex=True) \n",
    "                                     | jobs_df['FullDescription'].str.contains(pattern, flags=re.IGNORECASE, regex=True)]"
   ]
  },
  {
   "cell_type": "code",
   "execution_count": 28,
   "metadata": {},
   "outputs": [
    {
     "data": {
      "text/html": [
       "<div>\n",
       "<style scoped>\n",
       "    .dataframe tbody tr th:only-of-type {\n",
       "        vertical-align: middle;\n",
       "    }\n",
       "\n",
       "    .dataframe tbody tr th {\n",
       "        vertical-align: top;\n",
       "    }\n",
       "\n",
       "    .dataframe thead th {\n",
       "        text-align: right;\n",
       "    }\n",
       "</style>\n",
       "<table border=\"1\" class=\"dataframe\">\n",
       "  <thead>\n",
       "    <tr style=\"text-align: right;\">\n",
       "      <th></th>\n",
       "      <th>Id</th>\n",
       "      <th>Title</th>\n",
       "      <th>FullDescription</th>\n",
       "      <th>LocationRaw</th>\n",
       "      <th>LocationNormalized</th>\n",
       "      <th>ContractType</th>\n",
       "      <th>ContractTime</th>\n",
       "      <th>Company</th>\n",
       "      <th>Category</th>\n",
       "      <th>SalaryRaw</th>\n",
       "      <th>SalaryNormalized</th>\n",
       "      <th>SourceName</th>\n",
       "    </tr>\n",
       "  </thead>\n",
       "  <tbody>\n",
       "    <tr>\n",
       "      <th>2229</th>\n",
       "      <td>53636956</td>\n",
       "      <td>Commercial Analyst</td>\n",
       "      <td>My client, a market leading software company, ...</td>\n",
       "      <td>Berkshire</td>\n",
       "      <td>Berkshire</td>\n",
       "      <td>full_time</td>\n",
       "      <td>permanent</td>\n",
       "      <td>CMC Consulting Limited</td>\n",
       "      <td>Accounting &amp; Finance Jobs</td>\n",
       "      <td>50,000 - 55,000 + Benefits</td>\n",
       "      <td>52500</td>\n",
       "      <td>myjobs.cimaglobal.com</td>\n",
       "    </tr>\n",
       "    <tr>\n",
       "      <th>2890</th>\n",
       "      <td>56282015</td>\n",
       "      <td>Senior Financial Accounting Manager</td>\n",
       "      <td>A Senior Financial Accounting Manager is sough...</td>\n",
       "      <td>London</td>\n",
       "      <td>London</td>\n",
       "      <td>full_time</td>\n",
       "      <td>contract</td>\n",
       "      <td>Impart Recruitment</td>\n",
       "      <td>Accounting &amp; Finance Jobs</td>\n",
       "      <td>From 380 to 400 per day</td>\n",
       "      <td>93600</td>\n",
       "      <td>jobsfinancial.com</td>\n",
       "    </tr>\n",
       "    <tr>\n",
       "      <th>2891</th>\n",
       "      <td>56282016</td>\n",
       "      <td>Analyst</td>\n",
       "      <td>An Analyst is sought by one of the world's pre...</td>\n",
       "      <td>London</td>\n",
       "      <td>London</td>\n",
       "      <td>full_time</td>\n",
       "      <td>contract</td>\n",
       "      <td>Impart Recruitment</td>\n",
       "      <td>Accounting &amp; Finance Jobs</td>\n",
       "      <td>From 200 to 250 per day</td>\n",
       "      <td>54000</td>\n",
       "      <td>jobsfinancial.com</td>\n",
       "    </tr>\n",
       "    <tr>\n",
       "      <th>3368</th>\n",
       "      <td>58067002</td>\n",
       "      <td>Sponsorship Sales Executive</td>\n",
       "      <td>Corporate Sponsorship Sales Executive London U...</td>\n",
       "      <td>London</td>\n",
       "      <td>London</td>\n",
       "      <td>full_time</td>\n",
       "      <td>permanent</td>\n",
       "      <td>JOBG8</td>\n",
       "      <td>Sales Jobs</td>\n",
       "      <td>From 30,000 to 39,999 per year + ( 30,000 - 39...</td>\n",
       "      <td>34999</td>\n",
       "      <td>hotrecruit.com</td>\n",
       "    </tr>\n",
       "    <tr>\n",
       "      <th>5263</th>\n",
       "      <td>62007931</td>\n",
       "      <td>Accountant (Fantastic Opportunity))</td>\n",
       "      <td>My client is a leading firm of Chartered Accou...</td>\n",
       "      <td>Huddersfield</td>\n",
       "      <td>Huddersfield</td>\n",
       "      <td>NaN</td>\n",
       "      <td>NaN</td>\n",
       "      <td>Taskmaster</td>\n",
       "      <td>Accounting &amp; Finance Jobs</td>\n",
       "      <td>18,000 TO 20,000 pro rota</td>\n",
       "      <td>19000</td>\n",
       "      <td>MyUkJobs</td>\n",
       "    </tr>\n",
       "  </tbody>\n",
       "</table>\n",
       "</div>"
      ],
      "text/plain": [
       "            Id                                Title  \\\n",
       "2229  53636956                   Commercial Analyst   \n",
       "2890  56282015  Senior Financial Accounting Manager   \n",
       "2891  56282016                              Analyst   \n",
       "3368  58067002          Sponsorship Sales Executive   \n",
       "5263  62007931  Accountant (Fantastic Opportunity))   \n",
       "\n",
       "                                        FullDescription   LocationRaw  \\\n",
       "2229  My client, a market leading software company, ...     Berkshire   \n",
       "2890  A Senior Financial Accounting Manager is sough...        London   \n",
       "2891  An Analyst is sought by one of the world's pre...        London   \n",
       "3368  Corporate Sponsorship Sales Executive London U...        London   \n",
       "5263  My client is a leading firm of Chartered Accou...  Huddersfield   \n",
       "\n",
       "     LocationNormalized ContractType ContractTime                 Company  \\\n",
       "2229          Berkshire    full_time    permanent  CMC Consulting Limited   \n",
       "2890             London    full_time     contract      Impart Recruitment   \n",
       "2891             London    full_time     contract      Impart Recruitment   \n",
       "3368             London    full_time    permanent                   JOBG8   \n",
       "5263       Huddersfield          NaN          NaN              Taskmaster   \n",
       "\n",
       "                       Category  \\\n",
       "2229  Accounting & Finance Jobs   \n",
       "2890  Accounting & Finance Jobs   \n",
       "2891  Accounting & Finance Jobs   \n",
       "3368                 Sales Jobs   \n",
       "5263  Accounting & Finance Jobs   \n",
       "\n",
       "                                              SalaryRaw  SalaryNormalized  \\\n",
       "2229                         50,000 - 55,000 + Benefits             52500   \n",
       "2890                            From 380 to 400 per day             93600   \n",
       "2891                            From 200 to 250 per day             54000   \n",
       "3368  From 30,000 to 39,999 per year + ( 30,000 - 39...             34999   \n",
       "5263                          18,000 TO 20,000 pro rota             19000   \n",
       "\n",
       "                 SourceName  \n",
       "2229  myjobs.cimaglobal.com  \n",
       "2890      jobsfinancial.com  \n",
       "2891      jobsfinancial.com  \n",
       "3368         hotrecruit.com  \n",
       "5263               MyUkJobs  "
      ]
     },
     "execution_count": 28,
     "metadata": {},
     "output_type": "execute_result"
    }
   ],
   "source": [
    "filtered__chartered_accountant.head()"
   ]
  },
  {
   "cell_type": "code",
   "execution_count": 29,
   "metadata": {},
   "outputs": [
    {
     "data": {
      "text/plain": [
       "Category\n",
       "Accounting & Finance Jobs     376\n",
       "Other/General Jobs             11\n",
       "Consultancy Jobs                5\n",
       "Admin Jobs                      5\n",
       "Sales Jobs                      3\n",
       "HR & Recruitment Jobs           3\n",
       "Graduate Jobs                   3\n",
       "Logistics & Warehouse Jobs      2\n",
       "Engineering Jobs                2\n",
       "IT Jobs                         1\n",
       "Legal Jobs                      1\n",
       "Property Jobs                   1\n",
       "Creative & Design Jobs          1\n",
       "Travel Jobs                     1\n",
       "Manufacturing Jobs              1\n",
       "Retail Jobs                     1\n",
       "Name: count, dtype: int64"
      ]
     },
     "execution_count": 29,
     "metadata": {},
     "output_type": "execute_result"
    }
   ],
   "source": [
    "filtered__chartered_accountant['Category'].value_counts()"
   ]
  },
  {
   "cell_type": "code",
   "execution_count": 30,
   "metadata": {},
   "outputs": [],
   "source": [
    "filtered__chartered_accountant = filtered__chartered_accountant[(filtered__chartered_accountant['Category']=='Accounting & Finance Jobs')]"
   ]
  },
  {
   "attachments": {},
   "cell_type": "markdown",
   "metadata": {},
   "source": [
    "### Save the Job Description in Respective Category"
   ]
  },
  {
   "cell_type": "code",
   "execution_count": 31,
   "metadata": {},
   "outputs": [],
   "source": [
    "save_job_descriptions_as_txt(filtered__machine_learning, path=machine_learning_job_path)"
   ]
  },
  {
   "cell_type": "code",
   "execution_count": 32,
   "metadata": {},
   "outputs": [],
   "source": [
    "save_job_descriptions_as_txt(filtered__data_science, path=machine_learning_job_path)"
   ]
  },
  {
   "cell_type": "code",
   "execution_count": 33,
   "metadata": {},
   "outputs": [],
   "source": [
    "save_job_descriptions_as_txt(filtered__artificial_intelligence, path=machine_learning_job_path)"
   ]
  },
  {
   "cell_type": "code",
   "execution_count": 34,
   "metadata": {},
   "outputs": [],
   "source": [
    "save_job_descriptions_as_txt(filtered__nlp, path=machine_learning_job_path)"
   ]
  },
  {
   "cell_type": "code",
   "execution_count": 35,
   "metadata": {},
   "outputs": [],
   "source": [
    "save_job_descriptions_as_txt(filtered__software_developer, path=software_developer_job_path)"
   ]
  },
  {
   "cell_type": "code",
   "execution_count": 36,
   "metadata": {},
   "outputs": [],
   "source": [
    "save_job_descriptions_as_txt(filtered__product_manager, path=product_manager_job_path)"
   ]
  },
  {
   "cell_type": "code",
   "execution_count": 37,
   "metadata": {},
   "outputs": [],
   "source": [
    "save_job_descriptions_as_txt(filtered__chartered_accountant, path=chartered_accountant_job_path)"
   ]
  },
  {
   "attachments": {},
   "cell_type": "markdown",
   "metadata": {},
   "source": [
    "### Upload the job descriptions to MongoDB database"
   ]
  },
  {
   "cell_type": "code",
   "execution_count": 7,
   "metadata": {},
   "outputs": [],
   "source": [
    "import os\n",
    "from pymongo import MongoClient, ASCENDING\n",
    "from tqdm import tqdm"
   ]
  },
  {
   "cell_type": "code",
   "execution_count": 12,
   "metadata": {},
   "outputs": [],
   "source": [
    "def read_txt_file(file_path):\n",
    "    with open(file_path, 'r') as file:\n",
    "        data = file.read().replace('\\n', ' ')\n",
    "    return data\n",
    "\n",
    "def connect_mongodb():\n",
    "    client = MongoClient('mongodb://localhost:27017/')  # Connect to the MongoDB server\n",
    "    db = client['job-resume-db']  # Choose your database\n",
    "    return db\n",
    "\n",
    "def delete_all_documents(db):\n",
    "    job_collection = db['job-descriptions']  # Choose your collection\n",
    "    job_collection.delete_many({})  # Deletes all documents\n",
    "\n",
    "def create_document(job_category, job_description, index):\n",
    "    return {\n",
    "        'index': index,\n",
    "        'category': job_category,\n",
    "        'description': job_description,\n",
    "    }\n",
    "\n",
    "def insert_document(db, document):\n",
    "    job_collection = db['job-descriptions']  # Choose your collection\n",
    "    job_collection.insert_one(document)  # Insert the document"
   ]
  },
  {
   "cell_type": "code",
   "execution_count": 13,
   "metadata": {},
   "outputs": [],
   "source": [
    "# Connect to the MongoDB database\n",
    "jobs_resume_database = connect_mongodb()"
   ]
  },
  {
   "cell_type": "code",
   "execution_count": 14,
   "metadata": {},
   "outputs": [],
   "source": [
    "# Define the job categories and the paths to their respective directories\n",
    "job_categories_directories = {\n",
    "    'product manager': 'Job Descriptions/product manager',\n",
    "    'software developer': 'Job Descriptions/software developer',\n",
    "    'machine learning': 'Job Descriptions/machine learning',\n",
    "    'chartered accountant': 'Job Descriptions/Chartered accountant',\n",
    "}"
   ]
  },
  {
   "cell_type": "code",
   "execution_count": 15,
   "metadata": {},
   "outputs": [
    {
     "name": "stderr",
     "output_type": "stream",
     "text": [
      "Inserting Job Descriptions in MongoDB: 100%|██████████| 4/4 [00:01<00:00,  2.38it/s]\n"
     ]
    },
    {
     "data": {
      "text/plain": [
       "'index_1'"
      ]
     },
     "execution_count": 15,
     "metadata": {},
     "output_type": "execute_result"
    }
   ],
   "source": [
    "# Delete all documents in the collection\n",
    "delete_all_documents(jobs_resume_database)\n",
    "\n",
    "\n",
    " # For each job category\n",
    "for job_category, directory_path in tqdm(job_categories_directories.items(), desc=\"Inserting Job Descriptions in MongoDB: \"):\n",
    "    # Get all text files in the directory\n",
    "    txt_files = [f for f in os.listdir(directory_path) if f.endswith('.txt')]\n",
    "    \n",
    "    # For each text file\n",
    "    for index, txt_file in enumerate(txt_files):\n",
    "        # Read the text file\n",
    "        job_description = read_txt_file(os.path.join(directory_path, txt_file))\n",
    "        \n",
    "        # Create the MongoDB document\n",
    "        document = create_document(job_category, job_description, index)\n",
    "        \n",
    "        # Insert the document into MongoDB\n",
    "        insert_document(jobs_resume_database, document)\n",
    "\n",
    "# Create an index for efficient querying\n",
    "jobs_resume_database.jobs.create_index([('index', ASCENDING)])"
   ]
  },
  {
   "cell_type": "code",
   "execution_count": null,
   "metadata": {},
   "outputs": [],
   "source": []
  }
 ],
 "metadata": {
  "kernelspec": {
   "display_name": "Python 3 (ipykernel)",
   "language": "python",
   "name": "python3"
  },
  "language_info": {
   "codemirror_mode": {
    "name": "ipython",
    "version": 3
   },
   "file_extension": ".py",
   "mimetype": "text/x-python",
   "name": "python",
   "nbconvert_exporter": "python",
   "pygments_lexer": "ipython3",
   "version": "3.10.11"
  }
 },
 "nbformat": 4,
 "nbformat_minor": 2
}
